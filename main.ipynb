{
 "cells": [
  {
   "cell_type": "code",
   "execution_count": null,
   "id": "8d8f6faa-546c-4784-9dd0-fa91c8e33ef7",
   "metadata": {},
   "outputs": [],
   "source": [
    "import numpy as np\n",
    "import pandas as pd\n",
    "import math\n",
    "from sklearn.preprocessing import StandardScaler\n",
    "from sklearn.metrics import r2_score, mean_squared_error\n",
    "from sklearn.model_selection import train_test_split\n",
    "import matplotlib.pyplot as plt\n",
    "from sklearn.preprocessing import MinMaxScaler\n",
    "\n",
    "from LSTM import LSTM\n",
    "from Helper import split_data, create_sequences"
   ]
  },
  {
   "cell_type": "code",
   "execution_count": null,
   "id": "5e3f0f39-ac40-4483-8c1c-a3dbd07fb6ce",
   "metadata": {},
   "outputs": [],
   "source": [
    "data = pd.read_csv('data.csv')\n",
    "dates = data.iloc[:, [0]]"
   ]
  },
  {
   "cell_type": "code",
   "execution_count": null,
   "id": "acdb98d4-47b7-41f5-9ffd-687949456580",
   "metadata": {},
   "outputs": [],
   "source": [
    "data.iloc[:,[1]].plot()"
   ]
  },
  {
   "cell_type": "code",
   "execution_count": null,
   "id": "88c1b276-a6c2-4579-af8f-f68c9885ca97",
   "metadata": {},
   "outputs": [],
   "source": [
    "input_data = data.iloc[:,[1]]\n",
    "\n",
    "scaler = MinMaxScaler()\n",
    "scaler.fit(input_data)\n",
    "input_data = scaler.transform(input_data)\n",
    "\n",
    "input_data = pd.DataFrame(input_data)"
   ]
  },
  {
   "cell_type": "code",
   "execution_count": null,
   "id": "f8b45cf6-2775-43d8-bdbc-d520b9522c6e",
   "metadata": {},
   "outputs": [],
   "source": [
    "x, y = create_sequences(input_data, 2)\n",
    "x_train, x_test, y_train, y_test = split_data(x, y, 0.7)"
   ]
  },
  {
   "cell_type": "code",
   "execution_count": null,
   "id": "a3335d0f-72e7-4684-be47-64a3f587f8e2",
   "metadata": {},
   "outputs": [],
   "source": [
    "print('x_train\\t{}'.format(x_train.shape))\n",
    "print('x_test\\t{}'.format(x_test.shape))\n",
    "print('y_train\\t{}'.format(y_train.shape))\n",
    "print('y_test\\t{}'.format(y_test.shape))"
   ]
  },
  {
   "cell_type": "code",
   "execution_count": null,
   "id": "0899e39d-dae6-4907-82bd-da091a0a9db2",
   "metadata": {},
   "outputs": [],
   "source": [
    "learning_rate_list = [0.1, 0.01]\n",
    "max_iterations_list = [50, 100, 150, 200, 250, 300, 350]\n",
    "hidden_layers_list = [1, 2]\n",
    "time_step_list = [2, 4]"
   ]
  },
  {
   "cell_type": "code",
   "execution_count": null,
   "id": "ed10e2e3-e4de-4f52-bef9-2398e5839a66",
   "metadata": {
    "tags": []
   },
   "outputs": [],
   "source": [
    "obs = {\n",
    "    'Learning Rate': [],\n",
    "    'No of Hidden Layers': [],\n",
    "    'Time Step': [],\n",
    "    'Max Iterations': [],\n",
    "    'R2 Score': [],\n",
    "    'MSE': [],\n",
    "    'RMSE': []\n",
    "}\n",
    "\n",
    "for i, hidden_layers in enumerate(hidden_layers_list):\n",
    "    for learning_rate in learning_rate_list:\n",
    "        for time_step in time_step_list:\n",
    "            x, y = create_sequences(input_data, time_step)\n",
    "            x_train, x_test, y_train, y_test = split_data(x, y, 0.7)\n",
    "            for max_iterations in max_iterations_list:\n",
    "                print('Training for:\\r')\n",
    "                print('Hidden Layers:\\t{}\\r'.format(hidden_layers))\n",
    "                print('Learning Rate:\\t{}\\r'.format(learning_rate))\n",
    "                print('Time Step:\\t{}\\r'.format(time_step))\n",
    "                print('Max Iterations:\\t{}\\r'.format(max_iterations))\n",
    "                model = LSTM(learning_rate=learning_rate, max_iterations=max_iterations, time_step=time_step, input_shape=(1, 1), hidden_layers=hidden_layers)\n",
    "                \n",
    "                model.fit(x_train, y_train)\n",
    "                y_pred = model.predict(x_test)\n",
    "                \n",
    "                obs['Learning Rate'].append(learning_rate)\n",
    "                obs['No of Hidden Layers'].append(hidden_layers)\n",
    "                obs['Time Step'].append(time_step)\n",
    "                obs['Max Iterations'].append(max_iterations)\n",
    "                obs['R2 Score'].append(r2_score(y_test, y_pred))\n",
    "                obs['MSE'].append(mean_squared_error(y_test, y_pred, squared=True))\n",
    "                obs['RMSE'].append(mean_squared_error(y_test, y_pred, squared=False))"
   ]
  },
  {
   "cell_type": "code",
   "execution_count": null,
   "id": "cd98cca9-c8fd-4c55-90ca-76a686a641b9",
   "metadata": {},
   "outputs": [],
   "source": [
    "observations = pd.DataFrame.from_dict(obs)"
   ]
  },
  {
   "cell_type": "code",
   "execution_count": null,
   "id": "5912ce55-f390-43d7-a0b7-625e2978eb9f",
   "metadata": {},
   "outputs": [],
   "source": [
    "observations.to_csv('Observations.csv', index=False)"
   ]
  },
  {
   "cell_type": "code",
   "execution_count": null,
   "id": "0ad8f0da-6418-414d-99db-a4050eb38f43",
   "metadata": {},
   "outputs": [],
   "source": [
    "for metric in ['R2 Score', 'MSE', 'RMSE']:\n",
    "    fig, ax = plt.subplots(2, 2, figsize=(15,15))\n",
    "    for i, hidden_layers in enumerate(hidden_layers_list):\n",
    "        for j, learning_rate in enumerate(learning_rate_list):\n",
    "            for time_step in time_step_list:\n",
    "                y = observations.loc[(observations['No of Hidden Layers'] == hidden_layers) &\n",
    "                                     (observations['Learning Rate'] == learning_rate) &\n",
    "                                     (observations['Time Step'] == time_step), [metric]]\n",
    "                ax[i, j].plot(max_iterations_list, np.array(y))\n",
    "                ax[i, j].set(xlabel='Iterations', ylabel=metric,\n",
    "                             title='Hidden Layers: {}, Learning Rate: {}'.format(hidden_layers, learning_rate))\n",
    "            ax[i, j].legend(['Time step - {}'.format(time_step) for time_step in time_step_list])\n",
    "    plt.show()"
   ]
  },
  {
   "cell_type": "code",
   "execution_count": null,
   "id": "541de710-2c36-4181-befc-8a0f72c07ce7",
   "metadata": {},
   "outputs": [],
   "source": []
  }
 ],
 "metadata": {
  "kernelspec": {
   "display_name": "Python 3 (ipykernel)",
   "language": "python",
   "name": "python3"
  },
  "language_info": {
   "codemirror_mode": {
    "name": "ipython",
    "version": 3
   },
   "file_extension": ".py",
   "mimetype": "text/x-python",
   "name": "python",
   "nbconvert_exporter": "python",
   "pygments_lexer": "ipython3",
   "version": "3.9.12"
  }
 },
 "nbformat": 4,
 "nbformat_minor": 5
}
