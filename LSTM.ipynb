{
 "cells": [
  {
   "cell_type": "code",
   "execution_count": 1,
   "id": "8d8f6faa-546c-4784-9dd0-fa91c8e33ef7",
   "metadata": {},
   "outputs": [],
   "source": [
    "import numpy as np\n",
    "import pandas as pd\n",
    "import math\n",
    "from sklearn.preprocessing import StandardScaler\n",
    "from sklearn.metrics import r2_score\n",
    "from sklearn.model_selection import train_test_split"
   ]
  },
  {
   "cell_type": "code",
   "execution_count": 2,
   "id": "5e3f0f39-ac40-4483-8c1c-a3dbd07fb6ce",
   "metadata": {},
   "outputs": [],
   "source": [
    "data = pd.read_csv('data.csv')"
   ]
  },
  {
   "cell_type": "code",
   "execution_count": 3,
   "id": "3d9b3c63-3add-4d5f-9863-4377f7293303",
   "metadata": {},
   "outputs": [],
   "source": [
    "def sigmoid(x):\n",
    "    return 1 / (1 + np.exp(-x))\n",
    "\n",
    "def sigmoid_diff(y):\n",
    "    return y * (1 - y)\n",
    "\n",
    "def tanh(x):\n",
    "    return np.tanh(x)\n",
    "\n",
    "def tanh_diff(y):\n",
    "    return 1 - y * y\n",
    "\n",
    "def create_sequences(data, window_size):\n",
    "    x, y = [], []\n",
    "    for i in data.index:\n",
    "        if i + 10 + 1 > data.index[-1]:\n",
    "            break\n",
    "        x.append(data.iloc[i:i+10])\n",
    "        y.append(data.iloc[i+10+1])\n",
    "    return np.array(x), np.array(y)"
   ]
  },
  {
   "cell_type": "code",
   "execution_count": 28,
   "id": "2f761492-5153-43df-b7ca-17e46fa536a4",
   "metadata": {},
   "outputs": [],
   "source": [
    "class Parameter:\n",
    "    def __init__(self, name, shape, weight_sd, c=0):\n",
    "        self.name = name\n",
    "        self.value = np.random.rand(shape[0], shape[1]) * weight_sd + c\n",
    "        self.diff = np.zeros_like(self.value)\n",
    "        self.m = np.zeros_like(self.value)\n",
    "\n",
    "class LSTM:\n",
    "    def __init__(self, learning_rate, max_iterations, time_step, input_shape, hidden_layers=10):\n",
    "        self.learning_rate = learning_rate\n",
    "        self.max_iterations = max_iterations\n",
    "        self.time_step = time_step\n",
    "        self.input_shape = input_shape\n",
    "        self.hidden_layers = hidden_layers\n",
    "        self.initialize_parameters()\n",
    "        \n",
    "    def initialize_parameters(self):\n",
    "        # Parameters for Forgot gate\n",
    "        self.W_F = Parameter('W_F', shape=(self.hidden_layers, self.hidden_layers+self.input_shape[0]), weight_sd=0.1, c=0.5)\n",
    "        self.B_F = Parameter('B_F', shape=(self.hidden_layers, 1), weight_sd=0.1) \n",
    "        \n",
    "        # Parameters for Input gate\n",
    "        self.W_I = Parameter('W_I', shape=(self.hidden_layers, self.hidden_layers+self.input_shape[0]), weight_sd=0.1, c=0.5)\n",
    "        self.B_I = Parameter('B_I', shape=(self.hidden_layers, 1), weight_sd=0.1)\n",
    "        \n",
    "        # Parameters for Ouput gate\n",
    "        self.W_C = Parameter('W_C', shape=(self.hidden_layers, self.hidden_layers+self.input_shape[0]), weight_sd=0.1, c=0.5)\n",
    "        self.B_C = Parameter('B_C', shape=(self.hidden_layers, 1), weight_sd=0.1)\n",
    "        self.W_O = Parameter('W_O', shape=(self.hidden_layers, self.hidden_layers+self.input_shape[0]), weight_sd=0.1, c=0.5)\n",
    "        self.B_O = Parameter('B_O', shape=(self.hidden_layers, 1), weight_sd=0.1)\n",
    "        \n",
    "        # Parameters for Output\n",
    "        self.W_V = Parameter('W_V', shape=(self.input_shape[1], self.hidden_layers), weight_sd=0.1, c=0.5)\n",
    "        self.B_V = Parameter('B_V', shape=(self.input_shape[1], 1), weight_sd=0.1)\n",
    "        \n",
    "    def forward(self, x):\n",
    "        self.x = x\n",
    "        h = [np.zeros((self.hidden_layers, 1)) for _ in range(self.time_step)]\n",
    "        c = [np.zeros((self.hidden_layers, 1)) for _ in range(self.time_step)]\n",
    "        for step in range(1, self.time_step):\n",
    "            z = np.vstack((h[step-1], x[step]))\n",
    "            f = sigmoid((self.W_F.value @ z) + self.B_F.value)\n",
    "            i = sigmoid((self.W_I.value @ z) + self.B_I.value)\n",
    "            c_bar = tanh((self.W_C.value @ z) + self.B_C.value)\n",
    "\n",
    "            c[step] = (f * c[step-1]) + (i * c_bar)\n",
    "\n",
    "            o = sigmoid((self.W_O.value @ z) + self.B_O.value)\n",
    "            # print('o\\t{}\\nh\\t{}\\nc\\t{}'.format(o.shape, h[step].shape, c[step].shape))\n",
    "            h[step] = o * tanh(c[step])\n",
    "        self.f, self.i, self.c_bar, self.c, self.o, self.h = f, i , c_bar, c, o, h\n",
    "        v = self.W_V.value @ self.h[-1] + self.B_V.value\n",
    "        \n",
    "        return v\n",
    "        \n",
    "    \n",
    "    def backward(self, y, y_pred):\n",
    "        h_diff = [np.zeros((self.hidden_layers, 1)) for _ in range(self.time_step + 1)]\n",
    "        c_diff = [np.zeros((self.hidden_layers, 1)) for _ in range(self.time_step + 1)]\n",
    "        \n",
    "        delta_e = y - y_pred\n",
    "        \n",
    "        self.W_V.diff = delta_e * self.h[-1].T\n",
    "        self.B_V.diff = delta_e\n",
    "        \n",
    "        for step in reversed(range(self.time_step)):\n",
    "            h_diff[step] = self.W_V.value.T @ delta_e + h_diff[step+1]\n",
    "            o_diff = tanh(self.c[step]) * h_diff[step] * sigmoid_diff(self.h[step])\n",
    "            # print('o_diff\\t{}\\nh_diff\\t{}'.format(o_diff.shape, h_diff[step].shape))\n",
    "            c_diff = self.o[step] * h_diff[step] * tanh_diff(self.c[step]) + c_diff[step+1]\n",
    "            c_bar_diff = self.i[step] * c_diff[step] * tanh_diff(self.c_bar[step])\n",
    "            i_diff = self.c_bar[step] * c_diff[step] * sigmoid_diff(self.i[step])\n",
    "            f_diff = self.c[step-1] * c_diff[step] * sigmoid_diff(self.f[step])\n",
    "            \n",
    "            z = np.vstack((self.h[step-1], self.x[step]))\n",
    "            \n",
    "            self.W_F.diff += f_diff @ z.T\n",
    "            self.B_F.diff += f_diff\n",
    "            \n",
    "            self.W_I.diff += i_diff @ z.T\n",
    "            self.B_I.diff += i_diff\n",
    "            self.W_O.diff += o_diff @ z.T\n",
    "            self.B_O.diff += o_diff\n",
    "            \n",
    "            self.W_C.diff += c_diff @ z.T\n",
    "            self.B_C.diff += c_diff\n",
    "    \n",
    "    def get_parameters(self):\n",
    "        return [self.W_F, self.B_F, \n",
    "                self.W_I, self.B_I,\n",
    "                self.W_C, self.B_C,\n",
    "                self.W_O, self.B_O,\n",
    "                self.W_V, self.B_V]\n",
    "    \n",
    "    def clear_gradients(self):\n",
    "        for parameter in self.get_parameters():\n",
    "            parameter.diff = np.zeros_like(parameter.value)\n",
    "        \n",
    "    def clip_gradients(self):\n",
    "        for parameter in self.get_parameters():\n",
    "            np.clip(parameter.diff, -1, 1, out=parameter.diff)\n",
    "            \n",
    "    def update_parameters(self):\n",
    "        for parameter in self.get_parameters():\n",
    "            if parameter.name is 'W_V':\n",
    "                parameter.value += self.learning_rate * parameter.diff\n",
    "            else:\n",
    "                parameter.value += self.learning_rate * (parameter.diff/self.time_step)\n",
    "            \n",
    "    def fit(self, x, y):\n",
    "        for epoch in range(self.max_iterations):\n",
    "            loss = 0\n",
    "            for i in range(len(x)):\n",
    "                y_pred = self.forward(x[i]) \n",
    "                loss += ((y[i] - y_pred)**2)/2\n",
    "                self.backward(y[i], y_pred)\n",
    "                self.update_parameters()\n",
    "                self.clear_gradients()\n",
    "            print('{}/{} - loss : {}'.format(epoch, self.max_iterations, loss/len(x)))\n",
    "            \n",
    "    def predict(self, x):\n",
    "        y_pred = []\n",
    "        for i in range(len(x)):\n",
    "            y_pred.append(self.forward(x[i]))\n",
    "        return np.concatenate(y_pred)\n"
   ]
  },
  {
   "cell_type": "code",
   "execution_count": 5,
   "id": "88c1b276-a6c2-4579-af8f-f68c9885ca97",
   "metadata": {},
   "outputs": [],
   "source": [
    "input_data = data.iloc[:,[1]]\n",
    "scaler = StandardScaler()\n",
    "input_data = scaler.fit_transform(input_data)\n",
    "input_data = pd.DataFrame(input_data)\n",
    "x, y = create_sequences(input_data, 10)\n",
    "x_train, x_test, y_train, y_test = train_test_split(x, y, train_size=0.7, random_state=5)"
   ]
  },
  {
   "cell_type": "code",
   "execution_count": 6,
   "id": "a3335d0f-72e7-4684-be47-64a3f587f8e2",
   "metadata": {},
   "outputs": [
    {
     "name": "stdout",
     "output_type": "stream",
     "text": [
      "x_train\t(2105, 10, 1)\n",
      "x_test\t(903, 10, 1)\n",
      "y_train\t(2105, 1)\n",
      "y_test\t(903, 1)\n"
     ]
    }
   ],
   "source": [
    "print('x_train\\t{}'.format(x_train.shape))\n",
    "print('x_test\\t{}'.format(x_test.shape))\n",
    "print('y_train\\t{}'.format(y_train.shape))\n",
    "print('y_test\\t{}'.format(y_test.shape))"
   ]
  },
  {
   "cell_type": "code",
   "execution_count": 29,
   "id": "ed10e2e3-e4de-4f52-bef9-2398e5839a66",
   "metadata": {},
   "outputs": [],
   "source": [
    "model = LSTM(learning_rate=0.01, max_iterations=13, time_step=6, input_shape=(1, 1), hidden_layers=10)"
   ]
  },
  {
   "cell_type": "code",
   "execution_count": 30,
   "id": "55a05692-7e98-46fd-b806-66aa2d91f5b7",
   "metadata": {},
   "outputs": [
    {
     "name": "stdout",
     "output_type": "stream",
     "text": [
      "0/13 - loss : [[0.552002]]\n",
      "1/13 - loss : [[0.4786441]]\n",
      "2/13 - loss : [[0.21009338]]\n",
      "3/13 - loss : [[0.06296894]]\n",
      "4/13 - loss : [[0.01997713]]\n",
      "5/13 - loss : [[0.05599385]]\n",
      "6/13 - loss : [[0.00751818]]\n",
      "7/13 - loss : [[0.04040022]]\n",
      "8/13 - loss : [[0.01934626]]\n",
      "9/13 - loss : [[0.06808437]]\n",
      "10/13 - loss : [[0.0370212]]\n",
      "11/13 - loss : [[0.01517296]]\n",
      "12/13 - loss : [[0.01118506]]\n"
     ]
    }
   ],
   "source": [
    "model.fit(x_train, y_train)"
   ]
  },
  {
   "cell_type": "code",
   "execution_count": 31,
   "id": "0a4ad144-010a-40ab-aa89-bf8db4578343",
   "metadata": {},
   "outputs": [],
   "source": [
    "y_pred = model.predict(x_test)"
   ]
  },
  {
   "cell_type": "code",
   "execution_count": 32,
   "id": "9dc5414a-e144-4663-aef9-88b2ddee4f49",
   "metadata": {},
   "outputs": [
    {
     "name": "stdout",
     "output_type": "stream",
     "text": [
      "0.9825568209872819\n"
     ]
    }
   ],
   "source": [
    "print(r2_score(y_test, y_pred))"
   ]
  },
  {
   "cell_type": "code",
   "execution_count": null,
   "id": "16b64541-9a74-4398-97da-e3dbf8fa61c5",
   "metadata": {},
   "outputs": [],
   "source": []
  }
 ],
 "metadata": {
  "kernelspec": {
   "display_name": "Python 3 (ipykernel)",
   "language": "python",
   "name": "python3"
  },
  "language_info": {
   "codemirror_mode": {
    "name": "ipython",
    "version": 3
   },
   "file_extension": ".py",
   "mimetype": "text/x-python",
   "name": "python",
   "nbconvert_exporter": "python",
   "pygments_lexer": "ipython3",
   "version": "3.7.9"
  }
 },
 "nbformat": 4,
 "nbformat_minor": 5
}
